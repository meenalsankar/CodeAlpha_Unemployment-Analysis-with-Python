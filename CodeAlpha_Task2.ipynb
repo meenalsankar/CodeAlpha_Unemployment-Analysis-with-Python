# Unemployment Analysis in India
import pandas as pd
import numpy as np
import matplotlib.pyplot as plt
import seaborn as sns
from datetime import datetime
import plotly.express as px
import warnings
warnings.filterwarnings('ignore')

# Load the dataset (assuming it's downloaded from Kaggle)
try:
    df = pd.read_csv('Unemployment in India.csv')
    print("Dataset loaded successfully!")
except FileNotFoundError:
    print("Please download the dataset from Kaggle first: https://www.kaggle.com/datasets/gokulrajkmv/unemployment-in-india")
    exit()

# Initial Data Exploration
print("\n=== Dataset Overview ===")
print(f"Shape: {df.shape}")
print("\nFirst 5 rows:")
print(df.head())

print("\n=== Data Information ===")
print(df.info())

print("\n=== Missing Values ===")
print(df.isnull().sum())

# Data Cleaning
print("\n=== Data Cleaning ===")
# Convert date to datetime format
df['Date'] = pd.to_datetime(df['Date'])

# Handle missing values
df.dropna(inplace=True)

# Convert numeric columns to appropriate types
numeric_cols = [' Estimated Unemployment Rate (%)', ' Estimated Employed', ' Estimated Labour Participation Rate (%)']
for col in numeric_cols:
    df[col] = pd.to_numeric(df[col].astype(str).str.replace(',', ''), errors='coerce')

# Extract year and month for time series analysis
df['Year'] = df['Date'].dt.year
df['Month'] = df['Date'].dt.month_name()

print("\nAfter cleaning:")
print(df.info())

# Basic Statistics
print("\n=== Basic Statistics ===")
print(df[numeric_cols].describe().T)

# Create a clean dataframe copy for analysis
analysis_df = df.copy()

# Visualization 1: Unemployment Rate Trends
plt.figure(figsize=(14, 8))
sns.lineplot(data=analysis_df, x='Date', y=' Estimated Unemployment Rate (%)', hue='Region')
plt.title('Unemployment Rate Trend Across Indian States')
plt.xlabel('Date')
plt.ylabel('Unemployment Rate (%)')
plt.xticks(rotation=45)
plt.tight_layout()
plt.show()

# Visualization 2: COVID-19 Impact (comparing 2019 vs 2020)
pre_covid = analysis_df[analysis_df['Year'] == 2019]
during_covid = analysis_df[analysis_df['Year'] == 2020]

plt.figure(figsize=(14, 6))
plt.subplot(1, 2, 1)
sns.boxplot(data=pre_covid, y=' Estimated Unemployment Rate (%)')
plt.title('Pre-COVID (2019) Unemployment')
plt.subplot(1, 2, 2)
sns.boxplot(data=during_covid, y=' Estimated Unemployment Rate (%)')
plt.title('During COVID (2020) Unemployment')
plt.tight_layout()
plt.show()

# Visualization 3: Regional Analysis
plt.figure(figsize=(14, 8))
sns.barplot(data=analysis_df, x='Region', y=' Estimated Unemployment Rate (%)')
plt.title('Average Unemployment Rate by Region')
plt.xticks(rotation=90)
plt.tight_layout()
plt.show()

# Visualization 4: Seasonal Patterns
seasonal_df = analysis_df.groupby(['Month', 'Year'])[' Estimated Unemployment Rate (%)'].mean().reset_index()

plt.figure(figsize=(14, 8))
sns.lineplot(data=seasonal_df, x='Month', y=' Estimated Unemployment Rate (%)', hue='Year', 
             marker='o', markersize=8)
plt.title('Seasonal Unemployment Patterns (Monthly Average)')
plt.xlabel('Month')
plt.ylabel('Average Unemployment Rate (%)')
plt.tight_layout()
plt.show()

# Visualization 5: Interactive Map (using plotly)
fig = px.choropleth(
    analysis_df,
    geojson="https://gist.githubusercontent.com/jbrobst/56c13bbbf9d97d187fea01ca62ea5112/raw/e388c4cae20aa53cb5090210a42ebb9b765c0a36/india_states.geojson",
    featureidkey='properties.ST_NM',
    locations='Region',
    color=' Estimated Unemployment Rate (%)',
    color_continuous_scale='Reds',
    animation_frame='Date',
    title='Unemployment Rate Across Indian States (Animated)'
)
fig.update_geos(fitbounds="locations", visible=False)
fig.show()

# Advanced Analysis: COVID Impact Quantification
print("\n=== COVID-19 Impact Analysis ===")
region_covid_impact = analysis_df.groupby(['Region', 'Year'])[' Estimated Unemployment Rate (%)'].mean().unstack()
region_covid_impact['Increase (%)'] = region_covid_impact[2020] - region_covid_impact[2019]
region_covid_impact = region_covid_impact.sort_values('Increase (%)', ascending=False)

print("\nTop 5 Regions by COVID Impact:")
print(region_covid_impact.head())

# Labour Market Dynamics
plt.figure(figsize=(14, 8))
sns.scatterplot(data=analysis_df, 
                x=' Estimated Unemployment Rate (%)',
                y=' Estimated Labour Participation Rate (%)',
                hue='Region')
plt.title('Labour Market Dynamics')
plt.xlabel('Unemployment Rate (%)')
plt.ylabel('Labour Participation Rate (%)')
plt.tight_layout()
plt.show()

# Policy Recommendations
print("\n=== Policy Insights ===")
print("""
1. Regions with highest COVID impact ({} at {:.1f}% increase) need targeted:
   - Job creation programs
   - Skill development initiatives
   - SME support packages

2. Seasonal unemployment peaks in {} suggest:
   - Seasonal employment programs
   - Agricultural support during off-season

3. Low employment-high participation regions indicate need for:
   - Better job matching services
   - Vocational training aligned with market needs
   - Entrepreneurship support progra
